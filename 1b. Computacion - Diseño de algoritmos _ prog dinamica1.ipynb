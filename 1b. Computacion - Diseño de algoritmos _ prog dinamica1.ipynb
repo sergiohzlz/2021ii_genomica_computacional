{
 "cells": [
  {
   "cell_type": "markdown",
   "metadata": {},
   "source": [
    "# Programación dinámica\n",
    "\n",
    "Una técnica de programación muy popular para resolver problemas que se puedan partir en problemas más pequeños eivatando los probelmas que puede imponer la preogramación recursiva se llama _programación dinámica_."
   ]
  },
  {
   "cell_type": "markdown",
   "metadata": {},
   "source": [
    "## Fibonacci \n",
    "\n",
    "Una función tipícamente recursiva es la función de fibonacci.\n",
    "\n",
    "$$\n",
    "    F_n =  \\left \\{ \\begin{array} {ll}\n",
    "                         0 & n=0 \\\\\n",
    "                         1 & n=1 \\\\\n",
    "                         F_{n-1} + F_{n-2} & n>1\n",
    "                       \\end{array}\n",
    "           \\right.\n",
    "$$\n",
    "\n",
    "Esta función es muy conocida en matemáticas, desde teoría de números, probabilidad, etcétera, principalmente porque involucra la sucesión en el límite tiende a una constante\n",
    "\n",
    "$$\n",
    "\\phi = \\frac {1+ \\sqrt{5}} {2}\n",
    "$$\n",
    "\n",
    "¿Cómo la programaríamos?\n",
    "\n",
    "```Python\n",
    "    def fib(n):\n",
    "        if(n<1):                           # consideramos los casos n=0, y n=1\n",
    "            return n\n",
    "        else:\n",
    "            return fib(n-1) + fib(n-2)     # y para los demás hacemos una llamada recursiva\n",
    "```"
   ]
  },
  {
   "cell_type": "code",
   "execution_count": 5,
   "metadata": {},
   "outputs": [
    {
     "data": {
      "text/plain": [
       "(0, 1, 1, 5, 13, 21)"
      ]
     },
     "execution_count": 5,
     "metadata": {},
     "output_type": "execute_result"
    }
   ],
   "source": [
    "def fib(n):\n",
    "    if(n==0):\n",
    "        return 0\n",
    "    elif(n==1):\n",
    "        return 1\n",
    "    else:\n",
    "        return fib(n-1) + fib(n-2)\n",
    "\n",
    "(fib(0), fib(1), fib(2), fib(5), fib(7), fib(8))"
   ]
  },
  {
   "cell_type": "markdown",
   "metadata": {},
   "source": [
    "Todas las funciones recursivas tienen una clásula de escape en la que la función regresa un valor definido.\n",
    "```Python\n",
    "    def fib(n):\n",
    "        if(n==0):\n",
    "            return 0           # aquí están las\n",
    "        elif(n==1):            # clausulas de\n",
    "            return 1           # escape\n",
    "```\n",
    "\n",
    "Y también las cláusulas recursivas en las que se hace llamada a la misma función con otro argumento\n",
    "```Python\n",
    "        else:\n",
    "            return fib(n-1) + fib(n-2)\n",
    "```\n",
    "Lo malo de este estilo de programación es que para valores no tan grandes las mismas llamadas a la función rebasan la capacidad del lenguaje (en este caso Python) de recordarlas.\n",
    "\n",
    "Esto funciona así, si yo llamo\n",
    "\n",
    "```Python\n",
    "    fib(5)\n",
    "```\n",
    "éste tiene que llamar a\n",
    "\n",
    "```Python\n",
    "    fib(4) + fib(3)\n",
    "```\n",
    "\n",
    "y estos dos a su vez a \n",
    "\n",
    "```Python\n",
    "    fib(3) + fib(2) | fib(2) + fib(1)\n",
    "```\n",
    "\n",
    "y después\n",
    "```Python\n",
    "    fib(2) + fib(1) || fib(1) + fib(0) | fib(1) + fib(0) || fib(1)\n",
    "```\n",
    "\n",
    "Finalmente\n",
    "```Python\n",
    "    fib(1) + fib(0) ||| fib(1) || fib(1) + fib(0) | fib(1) + fib(0) || fib(1)\n",
    "```\n",
    "\n",
    "Entonces como todos los casos ya los podemos resolver, vamos regresando lo que nos indican nuestras clásulas de escape. Esta es una representación de las llamadas al stack\n",
    "\n",
    "```Python\n",
    "    Fib(5)\n",
    "    1 + 0 ||| 1 || 1 + 0 | 1 + 0 || 1\n",
    "      1   ||| 1 ||   1   |   1   || 1\n",
    "      1    +  1 ||   1   |   1   +  1\n",
    "           2    ||   1   |       2\n",
    "           2    +    1   |       2\n",
    "                3        +       2\n",
    "                         5\n",
    "\n",
    "```\n",
    "\n",
    "La siguiente imagen es más clara \n",
    "<img src=\"fib_arbol.png\" width=50%>\n",
    "\n",
    "Por eso, aunque elegante, para valores de $n>M$ ya no es factible obtener un resultado por este método.\n",
    "\n",
    "Sin embargo podemos notar que hubo pasos que ocupamos varias veces y los volvimos a calcular cada que aparecían, entonces ¿no existirá alguna forma de reusarlos?\n"
   ]
  },
  {
   "cell_type": "code",
   "execution_count": 12,
   "metadata": {},
   "outputs": [
    {
     "data": {
      "text/plain": [
       "(5, 21)"
      ]
     },
     "execution_count": 12,
     "metadata": {},
     "output_type": "execute_result"
    }
   ],
   "source": [
    "def fib2(n):\n",
    "    L = [0, 1]\n",
    "    for i in range(n-1):\n",
    "        fn, fm = L[-1], L[-2]\n",
    "        nvo = fn + fm\n",
    "        L.append(nvo)\n",
    "    return L[-1]\n",
    "\n",
    "fib2(5), fib(8)"
   ]
  },
  {
   "cell_type": "markdown",
   "metadata": {},
   "source": [
    "En esta función `fib2` estamos **guardando** los valores ya calculados solo para volverlos a usar cuando sea necesario. De hecho es muy similar a la forma en la que calculamos la sucesión los seres humanos.\n",
    "\n",
    "Veamos cómo le va con números más grandes"
   ]
  },
  {
   "cell_type": "code",
   "execution_count": 10,
   "metadata": {},
   "outputs": [
    {
     "data": {
      "text/plain": [
       "354224848179261915075"
      ]
     },
     "execution_count": 10,
     "metadata": {},
     "output_type": "execute_result"
    }
   ],
   "source": [
    "fib2(100)"
   ]
  },
  {
   "cell_type": "code",
   "execution_count": 11,
   "metadata": {},
   "outputs": [
    {
     "data": {
      "text/plain": [
       "33644764876431783266621612005107543310302148460680063906564769974680081442166662368155595513633734025582065332680836159373734790483865268263040892463056431887354544369559827491606602099884183933864652731300088830269235673613135117579297437854413752130520504347701602264758318906527890855154366159582987279682987510631200575428783453215515103870818298969791613127856265033195487140214287532698187962046936097879900350962302291026368131493195275630227837628441540360584402572114334961180023091208287046088923962328835461505776583271252546093591128203925285393434620904245248929403901706233888991085841065183173360437470737908552631764325733993712871937587746897479926305837065742830161637408969178426378624212835258112820516370298089332099905707920064367426202389783111470054074998459250360633560933883831923386783056136435351892133279732908133732642652633989763922723407882928177953580570993691049175470808931841056146322338217465637321248226383092103297701648054726243842374862411453093812206564914032751086643394517512161526545361333111314042436854805106765843493523836959653428071768775328348234345557366719731392746273629108210679280784718035329131176778924659089938635459327894523777674406192240337638674004021330343297496902028328145933418826817683893072003634795623117103101291953169794607632737589253530772552375943788434504067715555779056450443016640119462580972216729758615026968443146952034614932291105970676243268515992834709891284706740862008587135016260312071903172086094081298321581077282076353186624611278245537208532365305775956430072517744315051539600905168603220349163222640885248852433158051534849622434848299380905070483482449327453732624567755879089187190803662058009594743150052402532709746995318770724376825907419939632265984147498193609285223945039707165443156421328157688908058783183404917434556270520223564846495196112460268313970975069382648706613264507665074611512677522748621598642530711298441182622661057163515069260029861704945425047491378115154139941550671256271197133252763631939606902895650288268608362241082050562430701794976171121233066073310059947366875"
      ]
     },
     "execution_count": 11,
     "metadata": {},
     "output_type": "execute_result"
    }
   ],
   "source": [
    "fib2(10000)"
   ]
  },
  {
   "cell_type": "markdown",
   "metadata": {},
   "source": [
    "Este proceso de memorización de valores guardados nos permite recuperar información ya computada dándole rapidez a nuestra implementación, a cambio de que requerimos memoria para guardar dicha información."
   ]
  },
  {
   "cell_type": "markdown",
   "metadata": {},
   "source": [
    "# Ejercicios\n",
    "\n",
    "1. Considerando que $\\phi$ se obtiene como\n",
    "     $$ \n",
    "     \\lim_{n \\rightarrow \\infty} \\frac {F_{n-1}} {F_n}\n",
    "     $$  \n",
    "   Calcula el valor aproximado de $\\phi$ \n",
    "1. ¿Qué obtienes si la lista `L` inicia con otros dos valores? \n"
   ]
  },
  {
   "cell_type": "code",
   "execution_count": null,
   "metadata": {},
   "outputs": [],
   "source": []
  }
 ],
 "metadata": {
  "kernelspec": {
   "display_name": "Python 3",
   "language": "python",
   "name": "python3"
  },
  "language_info": {
   "codemirror_mode": {
    "name": "ipython",
    "version": 3
   },
   "file_extension": ".py",
   "mimetype": "text/x-python",
   "name": "python",
   "nbconvert_exporter": "python",
   "pygments_lexer": "ipython3",
   "version": "3.6.9"
  },
  "varInspector": {
   "cols": {
    "lenName": 16,
    "lenType": 16,
    "lenVar": 40
   },
   "kernels_config": {
    "python": {
     "delete_cmd_postfix": "",
     "delete_cmd_prefix": "del ",
     "library": "var_list.py",
     "varRefreshCmd": "print(var_dic_list())"
    },
    "r": {
     "delete_cmd_postfix": ") ",
     "delete_cmd_prefix": "rm(",
     "library": "var_list.r",
     "varRefreshCmd": "cat(var_dic_list()) "
    }
   },
   "types_to_exclude": [
    "module",
    "function",
    "builtin_function_or_method",
    "instance",
    "_Feature"
   ],
   "window_display": false
  }
 },
 "nbformat": 4,
 "nbformat_minor": 4
}
