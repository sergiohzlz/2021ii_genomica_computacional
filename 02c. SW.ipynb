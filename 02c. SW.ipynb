{
 "cells": [
  {
   "cell_type": "code",
   "execution_count": 3,
   "metadata": {},
   "outputs": [],
   "source": [
    "import numpy as np\n",
    "from pprint import pprint"
   ]
  },
  {
   "cell_type": "markdown",
   "metadata": {},
   "source": [
    "# Smith - Waterman\n",
    "\n",
    "Implementación del algoritmo NW. Los valores para gap, msm y mth se especifican a continuación.\n",
    "La matriz de comparación $\\delta$ se usará la que se presenta a continuación.\n",
    "\n",
    "| $\\delta$ | a | b |\n",
    "|-- |---- |--- |\n",
    "| **a** | $\\epsilon$ | $\\mu$  | \n",
    "| **b** | $\\mu$ | $\\epsilon$ | \n"
   ]
  },
  {
   "cell_type": "code",
   "execution_count": 4,
   "metadata": {},
   "outputs": [
    {
     "name": "stdout",
     "output_type": "stream",
     "text": [
      "2\n",
      "-1\n"
     ]
    }
   ],
   "source": [
    "mu    = -1  #mismatch\n",
    "eps   =  2  #match\n",
    "sigma = -2  #gap\n",
    "\n",
    "def delta(u,v,msm=mu,mth=eps):\n",
    "    if(u==v):\n",
    "        return mth\n",
    "    else:\n",
    "        return msm\n",
    "#ejemplo\n",
    "pprint(delta('g','g'))\n",
    "pprint(delta('g','t'))"
   ]
  },
  {
   "cell_type": "markdown",
   "metadata": {},
   "source": [
    "La matriz de scores $S$ se llena con la funcion $s_{i,j}$ como se presenta a continuación\n",
    "\n",
    "\n",
    "\n",
    "\\begin{align}\n",
    "S_{i,j} (u_i,v_j) & = \\max \\left \\{ \\begin{array} {ll}\n",
    "                                    0 \\\\\n",
    "                                    S_{i-1,j} - \\sigma \\\\\n",
    "                                    S_{i,j-1} - \\sigma \\\\\n",
    "                                    S_{i-1,j-1} + \\delta (u_i,v_j) \\\\\n",
    "                        \\end{array} \\right .\n",
    "\\end{align}\n",
    "\n"
   ]
  },
  {
   "cell_type": "code",
   "execution_count": 25,
   "metadata": {},
   "outputs": [],
   "source": [
    "def entrada(S,i,j,V,U,mu=mu, eps=eps,sigma=sigma,delta=delta):\n",
    "    arriba    = S[i-1,  j] + sigma\n",
    "    izquierda = S[i  ,j-1] + sigma\n",
    "    u,v       = V[i-1], U[j-1]\n",
    "    valdelta  = delta(u,v, msm=mu, mth=eps)\n",
    "    match     = S[i-1,j-1] + valdelta\n",
    "    ## entrada de la matriz\n",
    "    l         = [0, arriba, izquierda, match]\n",
    "    ## valor de donde viene el maximo\n",
    "    mx        = max(l)\n",
    "    cod       = sum([(i+1) for i in range(len(l)) if l[i]==mx])\n",
    "    return max(l), cod\n",
    "\n"
   ]
  },
  {
   "cell_type": "markdown",
   "metadata": {},
   "source": [
    "Para esto requerimos hacer un par de matrices, a saber S y B"
   ]
  },
  {
   "cell_type": "code",
   "execution_count": 35,
   "metadata": {},
   "outputs": [
    {
     "name": "stdout",
     "output_type": "stream",
     "text": [
      "array([[0., 0., 0., 0., 0., 0., 0., 0., 0., 0., 0.],\n",
      "       [0., 0., 0., 0., 0., 0., 0., 0., 0., 0., 0.],\n",
      "       [0., 0., 0., 0., 0., 0., 0., 0., 0., 0., 0.],\n",
      "       [0., 0., 0., 0., 0., 0., 0., 0., 0., 0., 0.],\n",
      "       [0., 0., 0., 0., 0., 0., 0., 0., 0., 0., 0.],\n",
      "       [0., 0., 0., 0., 0., 0., 0., 0., 0., 0., 0.],\n",
      "       [0., 0., 0., 0., 0., 0., 0., 0., 0., 0., 0.],\n",
      "       [0., 0., 0., 0., 0., 0., 0., 0., 0., 0., 0.],\n",
      "       [0., 0., 0., 0., 0., 0., 0., 0., 0., 0., 0.],\n",
      "       [0., 0., 0., 0., 0., 0., 0., 0., 0., 0., 0.],\n",
      "       [0., 0., 0., 0., 0., 0., 0., 0., 0., 0., 0.]])\n"
     ]
    }
   ],
   "source": [
    "V = 'TTATCGTTTA'  # |V| = n       filas \n",
    "U = 'ATCGTTTGAA'   # |U| = m   columnas\n",
    "S = np.zeros((len(V)+1,len(U)+1))\n",
    "B = np.zeros_like(S)\n",
    "pprint(S)"
   ]
  },
  {
   "cell_type": "markdown",
   "metadata": {},
   "source": [
    "El algoritmo pide llenar la primer fila \n",
    "\n",
    "1)\n",
    "```\n",
    "for i=1..|V|\n",
    "    S[i,0] = S[i-1,0] \n",
    "```\n",
    "\n",
    "2)\n",
    "```\n",
    "for j=1..|V|\n",
    "    S[0,j] = S[0,j-1] \n",
    "```\n"
   ]
  },
  {
   "cell_type": "code",
   "execution_count": 36,
   "metadata": {},
   "outputs": [
    {
     "name": "stdout",
     "output_type": "stream",
     "text": [
      "array([[0., 0., 0., 0., 0., 0., 0., 0., 0., 0., 0.],\n",
      "       [0., 0., 0., 0., 0., 0., 0., 0., 0., 0., 0.],\n",
      "       [0., 0., 0., 0., 0., 0., 0., 0., 0., 0., 0.],\n",
      "       [0., 0., 0., 0., 0., 0., 0., 0., 0., 0., 0.],\n",
      "       [0., 0., 0., 0., 0., 0., 0., 0., 0., 0., 0.],\n",
      "       [0., 0., 0., 0., 0., 0., 0., 0., 0., 0., 0.],\n",
      "       [0., 0., 0., 0., 0., 0., 0., 0., 0., 0., 0.],\n",
      "       [0., 0., 0., 0., 0., 0., 0., 0., 0., 0., 0.],\n",
      "       [0., 0., 0., 0., 0., 0., 0., 0., 0., 0., 0.],\n",
      "       [0., 0., 0., 0., 0., 0., 0., 0., 0., 0., 0.],\n",
      "       [0., 0., 0., 0., 0., 0., 0., 0., 0., 0., 0.]])\n"
     ]
    }
   ],
   "source": [
    "for i in range(1,len(V)+1):\n",
    "    S[i,0] = S[i-1,0] \n",
    "for j in range(1,len(U)+1):\n",
    "    S[0,j] = S[0,j-1] \n",
    "pprint(S)"
   ]
  },
  {
   "cell_type": "markdown",
   "metadata": {},
   "source": [
    "Desupués rellenamos el contenido de la matriz"
   ]
  },
  {
   "cell_type": "code",
   "execution_count": 37,
   "metadata": {},
   "outputs": [],
   "source": [
    "for i in range(1,len(V)+1):\n",
    "    for j in range(1,len(U)+1):\n",
    "        S[i,j], B[i,j] = entrada(S,i,j,V,U)"
   ]
  },
  {
   "cell_type": "code",
   "execution_count": 40,
   "metadata": {},
   "outputs": [
    {
     "name": "stdout",
     "output_type": "stream",
     "text": [
      "array([[ 0.,  0.,  0.,  0.,  0.,  0.,  0.,  0.,  0.,  0.,  0.],\n",
      "       [ 0.,  0.,  2.,  0.,  0.,  2.,  2.,  2.,  0.,  0.,  0.],\n",
      "       [ 0.,  0.,  2.,  1.,  0.,  2.,  4.,  4.,  2.,  0.,  0.],\n",
      "       [ 0.,  2.,  0.,  1.,  0.,  0.,  2.,  3.,  3.,  4.,  2.],\n",
      "       [ 0.,  0.,  4.,  2.,  0.,  2.,  2.,  4.,  2.,  2.,  3.],\n",
      "       [ 0.,  0.,  2.,  6.,  4.,  2.,  1.,  2.,  3.,  1.,  1.],\n",
      "       [ 0.,  0.,  0.,  4.,  8.,  6.,  4.,  2.,  4.,  2.,  0.],\n",
      "       [ 0.,  0.,  2.,  2.,  6., 10.,  8.,  6.,  4.,  3.,  1.],\n",
      "       [ 0.,  0.,  2.,  1.,  4.,  8., 12., 10.,  8.,  6.,  4.],\n",
      "       [ 0.,  0.,  2.,  1.,  2.,  6., 10., 14., 12., 10.,  8.],\n",
      "       [ 0.,  2.,  0.,  1.,  0.,  4.,  8., 12., 13., 14., 12.]])\n"
     ]
    }
   ],
   "source": [
    "pprint(S)"
   ]
  },
  {
   "cell_type": "code",
   "execution_count": 41,
   "metadata": {},
   "outputs": [
    {
     "name": "stdout",
     "output_type": "stream",
     "text": [
      "array([[0., 0., 0., 0., 0., 0., 0., 0., 0., 0., 0.],\n",
      "       [0., 1., 4., 4., 1., 4., 4., 4., 4., 1., 1.],\n",
      "       [0., 1., 4., 4., 1., 4., 4., 4., 3., 4., 1.],\n",
      "       [0., 4., 6., 4., 5., 3., 2., 4., 4., 4., 7.],\n",
      "       [0., 3., 4., 3., 8., 4., 4., 4., 7., 6., 4.],\n",
      "       [0., 1., 2., 4., 3., 3., 4., 2., 4., 7., 6.],\n",
      "       [0., 1., 3., 2., 4., 3., 3., 3., 4., 7., 8.],\n",
      "       [0., 1., 4., 2., 2., 4., 7., 7., 3., 4., 7.],\n",
      "       [0., 1., 4., 4., 2., 6., 4., 7., 3., 3., 3.],\n",
      "       [0., 1., 4., 4., 2., 6., 6., 4., 3., 3., 3.],\n",
      "       [0., 4., 6., 4., 7., 2., 2., 2., 4., 4., 7.]])\n"
     ]
    }
   ],
   "source": [
    "pprint(B)"
   ]
  },
  {
   "cell_type": "markdown",
   "metadata": {},
   "source": [
    "## Ejercicio\n",
    "Hacer el alineamiento de CTA y CTAG"
   ]
  },
  {
   "cell_type": "markdown",
   "metadata": {},
   "source": [
    "CTAA\n",
    "CTAA"
   ]
  },
  {
   "cell_type": "markdown",
   "metadata": {},
   "source": [
    "CTAA CTAC"
   ]
  },
  {
   "cell_type": "code",
   "execution_count": null,
   "metadata": {},
   "outputs": [],
   "source": []
  }
 ],
 "metadata": {
  "kernelspec": {
   "display_name": "Python 3",
   "language": "python",
   "name": "python3"
  },
  "language_info": {
   "codemirror_mode": {
    "name": "ipython",
    "version": 3
   },
   "file_extension": ".py",
   "mimetype": "text/x-python",
   "name": "python",
   "nbconvert_exporter": "python",
   "pygments_lexer": "ipython3",
   "version": "3.6.9"
  },
  "varInspector": {
   "cols": {
    "lenName": 16,
    "lenType": 16,
    "lenVar": 40
   },
   "kernels_config": {
    "python": {
     "delete_cmd_postfix": "",
     "delete_cmd_prefix": "del ",
     "library": "var_list.py",
     "varRefreshCmd": "print(var_dic_list())"
    },
    "r": {
     "delete_cmd_postfix": ") ",
     "delete_cmd_prefix": "rm(",
     "library": "var_list.r",
     "varRefreshCmd": "cat(var_dic_list()) "
    }
   },
   "types_to_exclude": [
    "module",
    "function",
    "builtin_function_or_method",
    "instance",
    "_Feature"
   ],
   "window_display": false
  }
 },
 "nbformat": 4,
 "nbformat_minor": 2
}
