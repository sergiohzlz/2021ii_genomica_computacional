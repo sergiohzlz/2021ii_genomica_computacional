{
 "cells": [
  {
   "cell_type": "markdown",
   "metadata": {},
   "source": [
    "# Diseño de algoritmos\n",
    "## Backtracking \n",
    "\n",
    "Esta técnica para resolver problemas de optimización probando las diferentes configuraciones. Vamos a aplicarlo a un problema muy conocido, que es el de las N reinas que consta de acomodar N reinas en un tablero de ajedrez sin que se ataquen entre ellas (usualmente N=9, y en este problema usaremos 4)."
   ]
  },
  {
   "cell_type": "code",
   "execution_count": 1,
   "metadata": {},
   "outputs": [],
   "source": [
    "import numpy as np\n"
   ]
  },
  {
   "cell_type": "markdown",
   "metadata": {},
   "source": [
    "### Condiciones y funciones auxiliares"
   ]
  },
  {
   "cell_type": "markdown",
   "metadata": {},
   "source": [
    "Primero necesitamos funciones auxiliares que nos van a ayudar en nuestro problema. "
   ]
  },
  {
   "cell_type": "code",
   "execution_count": 51,
   "metadata": {},
   "outputs": [],
   "source": [
    "A = np.arange(16).reshape(4,4)"
   ]
  },
  {
   "cell_type": "code",
   "execution_count": 52,
   "metadata": {},
   "outputs": [
    {
     "data": {
      "text/plain": [
       "array([[ 0,  1,  2,  3],\n",
       "       [ 4,  5,  6,  7],\n",
       "       [ 8,  9, 10, 11],\n",
       "       [12, 13, 14, 15]])"
      ]
     },
     "execution_count": 52,
     "metadata": {},
     "output_type": "execute_result"
    }
   ],
   "source": [
    "A"
   ]
  },
  {
   "cell_type": "markdown",
   "metadata": {},
   "source": [
    "¿Cómo se obtiene la i-ésima de columna / renglón de una matriz en numpy?\n",
    "\n",
    "La i-ésima fila:\n",
    "\n",
    "    A[i] <- fila i\n",
    "\n",
    "La i-ésima columna:\n",
    "\n",
    "    A[:,i] <- todas las filas, columna i"
   ]
  },
  {
   "cell_type": "code",
   "execution_count": 53,
   "metadata": {},
   "outputs": [
    {
     "data": {
      "text/plain": [
       "array([ 8,  9, 10, 11])"
      ]
     },
     "execution_count": 53,
     "metadata": {},
     "output_type": "execute_result"
    }
   ],
   "source": [
    "A[2]"
   ]
  },
  {
   "cell_type": "code",
   "execution_count": 54,
   "metadata": {},
   "outputs": [
    {
     "data": {
      "text/plain": [
       "array([ 2,  6, 10, 14])"
      ]
     },
     "execution_count": 54,
     "metadata": {},
     "output_type": "execute_result"
    }
   ],
   "source": [
    "A[:,2]"
   ]
  },
  {
   "cell_type": "markdown",
   "metadata": {},
   "source": [
    "Las diagonales requieren un _hack_ más específico, ocupando la función `diagonal` que tienen todos los arrays en numpy, vamos a juntar todas las diagonales de nuestra matriz en una lista, primero las inversas y luego las diagonales normales.\n",
    "\n",
    "La pregunta en GitHub la pueden ver [acá](https://stackoverflow.com/a/6313414)"
   ]
  },
  {
   "cell_type": "code",
   "execution_count": 68,
   "metadata": {},
   "outputs": [
    {
     "name": "stdout",
     "output_type": "stream",
     "text": [
      "[(-3, array([0])), (-2, array([4, 1])), (-1, array([8, 5, 2])), (0, array([12,  9,  6,  3])), (1, array([13, 10,  7])), (2, array([14, 11])), (3, array([15]))]\n",
      "[(3, array([3])), (2, array([2, 7])), (1, array([ 1,  6, 11])), (0, array([ 0,  5, 10, 15])), (-1, array([ 4,  9, 14])), (-2, array([ 8, 13])), (-3, array([12]))]\n"
     ]
    }
   ],
   "source": [
    "diagsR=[(i,A[::-1,:].diagonal(i)) for i in range(-A.shape[0]+1,A.shape[0])]\n",
    "diagsN=[(i,A.diagonal(i)) for i in range(A.shape[1]-1, -A.shape[1],-1)]\n",
    "\n",
    "print(diagsR)\n",
    "print(diagsN)"
   ]
  },
  {
   "cell_type": "markdown",
   "metadata": {},
   "source": [
    "¿Por qué queremos hacer esto? \n",
    "\n",
    "Por la naturaleza de las reinas en el ajedrez, imponen una condición muy concreta en el juego: eres susceptible a ser atacado por una reina si estás en su fila, renglón o diagonal (normal o inversa). Ahora, si en hay una reina en una casilla implica que no podremos poner otra reina en su fila, renglón o diagonal.\n",
    "\n",
    "Esto lo vamos a lograr porque nuestro tablero tendrá puros ceros y codificaremos las reinas con un 1. Entonces si sumamos un renglón, columna o diagonal, la suma de sus entradas no debería ser mayor a 1."
   ]
  },
  {
   "cell_type": "code",
   "execution_count": 71,
   "metadata": {
    "scrolled": true
   },
   "outputs": [
    {
     "name": "stdout",
     "output_type": "stream",
     "text": [
      "6\n",
      "24\n"
     ]
    }
   ],
   "source": [
    "#Así sumamos una fila\n",
    "print(sum(A[0]))\n",
    "#Así sumamos una columna\n",
    "print(sum(A[:,0]))"
   ]
  },
  {
   "cell_type": "code",
   "execution_count": 106,
   "metadata": {},
   "outputs": [
    {
     "name": "stdout",
     "output_type": "stream",
     "text": [
      "[[0. 0. 0. 0.]\n",
      " [0. 1. 0. 0.]\n",
      " [0. 0. 0. 1.]\n",
      " [0. 0. 0. 0.]]\n"
     ]
    }
   ],
   "source": [
    "tablero = np.zeros((4,4))\n",
    "\n",
    "#tablero válido\n",
    "tablero[1,1] = 1\n",
    "tablero[2,3] = 1\n",
    "print(tablero)\n",
    "\n",
    "diagsR=dict([(i,tablero[::-1,:].diagonal(i)) for i in range(-tablero.shape[0]+1,tablero.shape[0])])\n",
    "diagsN=dict([(i,tablero.diagonal(i)) for i in range(tablero.shape[1]-1, -tablero.shape[1],-1)])\n",
    "\n",
    "\n",
    "def get_diagonales(c,N=3):\n",
    "    \"\"\"\n",
    "    Funcion que regresa el índice que\n",
    "    corresponde al a diagonal normal (diagsN)\n",
    "    y a la diagonal invertida (diagsR) correspondientes\n",
    "    a la coordenada c -en un tablero de tamaño 3-\n",
    "    \"\"\"\n",
    "    n,m = c\n",
    "    return m-n, n+m-N\n",
    "\n"
   ]
  },
  {
   "cell_type": "code",
   "execution_count": 107,
   "metadata": {},
   "outputs": [
    {
     "name": "stdout",
     "output_type": "stream",
     "text": [
      "0 -1\n",
      "[0. 1. 0. 0.]\n",
      "[0. 1. 0.]\n"
     ]
    }
   ],
   "source": [
    "N, R = get_diagonales((1,1))\n",
    "print(N,R)\n",
    "print(diagsN[N])\n",
    "print(diagsR[R])"
   ]
  },
  {
   "cell_type": "code",
   "execution_count": 112,
   "metadata": {},
   "outputs": [
    {
     "name": "stdout",
     "output_type": "stream",
     "text": [
      "Para el punto en (1,1)\n",
      "Suma fila 1.0, columna 1.0, diagonal 1.0, diagonal r 1.0\n",
      "\n",
      "Para el punto (2,3)\n",
      "Suma fila 1.0, columna 1.0, diagonal 1.0, diagonal r 1.0\n"
     ]
    }
   ],
   "source": [
    "print(\"Para el punto en (1,1)\")\n",
    "n,m = 1,1\n",
    "sumaf, sumac = sum(tablero[n]), sum(tablero[:,m])\n",
    "#obtenemos los indices del diccionario para las diagonales\n",
    "#del punto (1,1)\n",
    "N,R = get_diagonales((n,m)) \n",
    "suman, sumar = sum(diagsN[N]), sum(diagsR[R])\n",
    "print(\"Suma fila {}, columna {}, diagonal {}, diagonal r {}\".format(sumaf, sumac, suman, sumar))\n",
    "\n",
    "print(\"\\nPara el punto (2,3)\")\n",
    "n,m = 2, 3\n",
    "sumaf, sumac = sum(tablero[n]), sum(tablero[:,m])\n",
    "#obtenemos los indices del diccionario para las diagonales\n",
    "#del punto (2,3)\n",
    "N,R = get_diagonales((n,m)) \n",
    "suman, sumar = sum(diagsN[N]), sum(diagsR[R])\n",
    "print(\"Suma fila {}, columna {}, diagonal {}, diagonal r {}\".format(sumaf, sumac, suman, sumar))\n"
   ]
  },
  {
   "cell_type": "code",
   "execution_count": 113,
   "metadata": {},
   "outputs": [
    {
     "data": {
      "text/plain": [
       "array([[0., 0., 0., 0.],\n",
       "       [0., 1., 1., 0.],\n",
       "       [0., 0., 0., 1.],\n",
       "       [0., 0., 0., 0.]])"
      ]
     },
     "execution_count": 113,
     "metadata": {},
     "output_type": "execute_result"
    }
   ],
   "source": [
    "#tablero inválido\n",
    "tablero[1,2]=1\n",
    "tablero"
   ]
  },
  {
   "cell_type": "code",
   "execution_count": 114,
   "metadata": {},
   "outputs": [
    {
     "name": "stdout",
     "output_type": "stream",
     "text": [
      "Para el punto en (1,2)\n",
      "Suma fila 2.0, columna 1.0, diagonal 2.0, diagonal r 1.0\n"
     ]
    }
   ],
   "source": [
    "print(\"Para el punto en (1,2)\")\n",
    "n,m = 1,2\n",
    "sumaf, sumac = sum(tablero[n]), sum(tablero[:,m])\n",
    "#obtenemos los indices del diccionario para las diagonales\n",
    "#del punto (1,1)\n",
    "N,R = get_diagonales((n,m)) \n",
    "suman, sumar = sum(diagsN[N]), sum(diagsR[R])\n",
    "print(\"Suma fila {}, columna {}, diagonal {}, diagonal r {}\".format(sumaf, sumac, suman, sumar))\n"
   ]
  },
  {
   "cell_type": "code",
   "execution_count": 185,
   "metadata": {},
   "outputs": [],
   "source": [
    "def es_valida(T,c,N=3):\n",
    "    \"\"\"\n",
    "    Funcion que regresa True si la coordenada c en el\n",
    "    tablero suma algo mayor a 1\n",
    "    \"\"\"\n",
    "    n,m = c\n",
    "    N,R = get_diagonales(c,N)\n",
    "\n",
    "    if(sum(T[n])>0):\n",
    "        #print(1)\n",
    "        return False\n",
    "    elif(sum(T[:,m])>0):\n",
    "        #print(2)\n",
    "        return False\n",
    "    elif(sum(diagsN[N])>0):\n",
    "        #print(3)\n",
    "        return False\n",
    "    elif(sum(diagsR[R])>0):\n",
    "        #print(4)\n",
    "        return False\n",
    "    else:\n",
    "        return True\n"
   ]
  },
  {
   "cell_type": "markdown",
   "metadata": {},
   "source": [
    "### Exploración del árbol de estados"
   ]
  },
  {
   "cell_type": "markdown",
   "metadata": {},
   "source": [
    "Ahora lo que debemos hacer es explorar los diferentes estados para el juego de las 4-reinas e ir verificando que podamos poner cada una de las 4 reinas sin que se ataquen entre ellas."
   ]
  },
  {
   "cell_type": "markdown",
   "metadata": {},
   "source": [
    "Para hacer la exploración debemos hacer lo siguiente. Si el contador indica que estamos en la misma profundidad del árbol (en este caso 4) entonces terminamos. Si no, quiere decir que podemos poner una reina más y verificar si la celda en la que está no sería atacada, en caso de fallar la tenemos que quitar y probar en otra celda."
   ]
  },
  {
   "cell_type": "code",
   "execution_count": 193,
   "metadata": {},
   "outputs": [],
   "source": [
    "def prueba(n, contador, tablero):\n",
    "    N = tablero.shape[0]-1\n",
    "    if(n==contador):\n",
    "        return True\n",
    "    for i in range(n):             #exploramos el tablero\n",
    "        for j in range(n):\n",
    "            if( es_valida(tablero, (i,j),N) ):\n",
    "                tablero[i,j] = 1  #ponemos una reina\n",
    "                contador += 1\n",
    "                if(prueba(n,contador, tablero)):\n",
    "                    return True\n",
    "                tablero[i,j] = 0  #si no fue valido\n",
    "                contador -= 1\n",
    "            \n",
    "    return False"
   ]
  },
  {
   "cell_type": "code",
   "execution_count": 200,
   "metadata": {},
   "outputs": [],
   "source": [
    "tablero = np.zeros((4,4))\n",
    "diagsR=dict([(i,tablero[::-1,:].diagonal(i)) for i in range(-tablero.shape[0]+1,tablero.shape[0])])\n",
    "diagsN=dict([(i,tablero.diagonal(i)) for i in range(tablero.shape[1]-1, -tablero.shape[1],-1)])\n"
   ]
  },
  {
   "cell_type": "code",
   "execution_count": 201,
   "metadata": {},
   "outputs": [
    {
     "data": {
      "text/plain": [
       "True"
      ]
     },
     "execution_count": 201,
     "metadata": {},
     "output_type": "execute_result"
    }
   ],
   "source": [
    "prueba(4,0, tablero)"
   ]
  },
  {
   "cell_type": "code",
   "execution_count": 202,
   "metadata": {},
   "outputs": [
    {
     "data": {
      "text/plain": [
       "array([[0., 1., 0., 0.],\n",
       "       [0., 0., 0., 1.],\n",
       "       [1., 0., 0., 0.],\n",
       "       [0., 0., 1., 0.]])"
      ]
     },
     "execution_count": 202,
     "metadata": {},
     "output_type": "execute_result"
    }
   ],
   "source": [
    "tablero"
   ]
  },
  {
   "cell_type": "markdown",
   "metadata": {},
   "source": [
    "Lo podemos hacer de 5x5"
   ]
  },
  {
   "cell_type": "code",
   "execution_count": 197,
   "metadata": {},
   "outputs": [],
   "source": [
    "tablero = np.zeros((5,5))\n",
    "diagsR=dict([(i,tablero[::-1,:].diagonal(i)) for i in range(-tablero.shape[0]+1,tablero.shape[0])])\n",
    "diagsN=dict([(i,tablero.diagonal(i)) for i in range(tablero.shape[1]-1, -tablero.shape[1],-1)])\n"
   ]
  },
  {
   "cell_type": "code",
   "execution_count": 198,
   "metadata": {},
   "outputs": [
    {
     "data": {
      "text/plain": [
       "True"
      ]
     },
     "execution_count": 198,
     "metadata": {},
     "output_type": "execute_result"
    }
   ],
   "source": [
    "prueba(5,0, tablero)"
   ]
  },
  {
   "cell_type": "code",
   "execution_count": 199,
   "metadata": {},
   "outputs": [
    {
     "data": {
      "text/plain": [
       "array([[1., 0., 0., 0., 0.],\n",
       "       [0., 0., 1., 0., 0.],\n",
       "       [0., 0., 0., 0., 1.],\n",
       "       [0., 1., 0., 0., 0.],\n",
       "       [0., 0., 0., 1., 0.]])"
      ]
     },
     "execution_count": 199,
     "metadata": {},
     "output_type": "execute_result"
    }
   ],
   "source": [
    "tablero"
   ]
  },
  {
   "cell_type": "code",
   "execution_count": null,
   "metadata": {},
   "outputs": [],
   "source": []
  }
 ],
 "metadata": {
  "kernelspec": {
   "display_name": "Python 3",
   "language": "python",
   "name": "python3"
  },
  "language_info": {
   "codemirror_mode": {
    "name": "ipython",
    "version": 3
   },
   "file_extension": ".py",
   "mimetype": "text/x-python",
   "name": "python",
   "nbconvert_exporter": "python",
   "pygments_lexer": "ipython3",
   "version": "3.6.9"
  },
  "varInspector": {
   "cols": {
    "lenName": 16,
    "lenType": 16,
    "lenVar": 40
   },
   "kernels_config": {
    "python": {
     "delete_cmd_postfix": "",
     "delete_cmd_prefix": "del ",
     "library": "var_list.py",
     "varRefreshCmd": "print(var_dic_list())"
    },
    "r": {
     "delete_cmd_postfix": ") ",
     "delete_cmd_prefix": "rm(",
     "library": "var_list.r",
     "varRefreshCmd": "cat(var_dic_list()) "
    }
   },
   "types_to_exclude": [
    "module",
    "function",
    "builtin_function_or_method",
    "instance",
    "_Feature"
   ],
   "window_display": false
  }
 },
 "nbformat": 4,
 "nbformat_minor": 4
}
